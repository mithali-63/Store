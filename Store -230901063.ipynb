{
 "cells": [
  {
   "cell_type": "code",
   "execution_count": 16,
   "id": "5e10ed40",
   "metadata": {},
   "outputs": [
    {
     "name": "stdout",
     "output_type": "stream",
     "text": [
      "       a  b  c\n",
      "one    1  2  3\n",
      "two    4  5  6\n",
      "three  7  8  9\n"
     ]
    }
   ],
   "source": [
    "import pandas as pd\n",
    "df=pd.DataFrame([[1,2,3],[4,5,6],[7,8,9]],index=['one','two','three'],columns=['a','b','c'])\n",
    "print(df)\n",
    "\n"
   ]
  },
  {
   "cell_type": "code",
   "execution_count": 17,
   "id": "732e67d7",
   "metadata": {},
   "outputs": [],
   "source": [
    "df.to_excel(\"/Users/student/Downloads/Mithali.xlsx\")\n",
    "df.to_excel(\"/Users/student/Downloads/Mithali2.xlsx\")"
   ]
  },
  {
   "cell_type": "code",
   "execution_count": 18,
   "id": "e291f9f3",
   "metadata": {},
   "outputs": [],
   "source": [
    "df=pd.DataFrame([[10,20,30],[40,50,60],[70,80,90]],index=['four','five','six'],columns=['X','Y','Z'])\n",
    "df.to_excel(\"/Users/student/Downloads/Mithali.xlsx\")\n"
   ]
  },
  {
   "cell_type": "code",
   "execution_count": 11,
   "id": "7dd63239",
   "metadata": {},
   "outputs": [],
   "source": [
    "x=d=pd.DataFrame([[6,7],[1,2]],index=['a','b'],columns=['X','Y'])\n",
    "df.to_excel(\"/Users/student/Downloads/Mithali.xlsx\")\n"
   ]
  },
  {
   "cell_type": "code",
   "execution_count": 21,
   "id": "ce5cda30",
   "metadata": {},
   "outputs": [],
   "source": [
    "#to append\n",
    "import pandas as pd\n",
    "X=pd.read_excel(\"/Users/student/Downloads/Mithali.xlsx\")\n",
    "Y=pd.read_excel(\"/Users/student/Downloads/Mithali2.xlsx\")\n",
    "z=pd.concat([X,Y])\n",
    "z.to_excel(\"/Users/student/Downloads/Mithali3.xlsx\")"
   ]
  },
  {
   "cell_type": "code",
   "execution_count": 22,
   "id": "87b796b9",
   "metadata": {},
   "outputs": [
    {
     "name": "stdout",
     "output_type": "stream",
     "text": [
      "  Unnamed: 0     X     Y     Z    a    b    c\n",
      "0       four  10.0  20.0  30.0  NaN  NaN  NaN\n",
      "1       five  40.0  50.0  60.0  NaN  NaN  NaN\n",
      "2        six  70.0  80.0  90.0  NaN  NaN  NaN\n",
      "0        one   NaN   NaN   NaN  1.0  2.0  3.0\n",
      "1        two   NaN   NaN   NaN  4.0  5.0  6.0\n",
      "2      three   NaN   NaN   NaN  7.0  8.0  9.0\n",
      "  Unnamed: 0     X     Y     Z    a    b    c\n",
      "0       four  10.0  20.0  30.0  NaN  NaN  NaN\n",
      "1       five  40.0  50.0  60.0  NaN  NaN  NaN\n",
      "2        six  70.0  80.0  90.0  NaN  NaN  NaN\n",
      "0        one   NaN   NaN   NaN  1.0  2.0  3.0\n",
      "1        two   NaN   NaN   NaN  4.0  5.0  6.0\n",
      "2      three   NaN   NaN   NaN  7.0  8.0  9.0\n"
     ]
    }
   ],
   "source": [
    "#to sort\n",
    "df=z.sort_values([\"X\"])\n",
    "print(df)\n",
    "df.to_excel(\"/Users/student/Downloads/Mithali3.xlsx\")\n",
    "df=z.sort_values([\"Y\"])\n",
    "print(df)\n",
    "df.to_excel(\"/Users/student/Downloads/Mithali3.xlsx\")\n"
   ]
  },
  {
   "cell_type": "code",
   "execution_count": 24,
   "id": "fbf6a81f",
   "metadata": {},
   "outputs": [
    {
     "name": "stdout",
     "output_type": "stream",
     "text": [
      "   Unnamed: 0.1 Unnamed: 0     X     Y     Z    a    b    c\n",
      "0             0       four  10.0  20.0  30.0  NaN  NaN  NaN\n",
      "1             1       five  40.0  50.0  60.0  NaN  NaN  NaN\n",
      "2             2        six  70.0  80.0  90.0  NaN  NaN  NaN\n",
      "3             0        one   NaN   NaN   NaN  1.0  2.0  3.0\n",
      "4             1        two   NaN   NaN   NaN  4.0  5.0  6.0\n",
      "5             2      three   NaN   NaN   NaN  7.0  8.0  9.0\n",
      "['Unnamed: 0.1', 'Unnamed: 0', 'X', 'Y', 'Z', 'a', 'b', 'c']\n",
      "6\n"
     ]
    }
   ],
   "source": [
    "df=pd.read_excel(\"/Users/student/Downloads/Mithali3.xlsx\")\n",
    "print(df)\n",
    "print(list(df))#print the column name as list\n",
    "print(format(len(df)))#print the no of rows"
   ]
  },
  {
   "cell_type": "code",
   "execution_count": null,
   "id": "9b54325c",
   "metadata": {},
   "outputs": [],
   "source": []
  }
 ],
 "metadata": {
  "kernelspec": {
   "display_name": "Python 3 (ipykernel)",
   "language": "python",
   "name": "python3"
  },
  "language_info": {
   "codemirror_mode": {
    "name": "ipython",
    "version": 3
   },
   "file_extension": ".py",
   "mimetype": "text/x-python",
   "name": "python",
   "nbconvert_exporter": "python",
   "pygments_lexer": "ipython3",
   "version": "3.11.5"
  }
 },
 "nbformat": 4,
 "nbformat_minor": 5
}
